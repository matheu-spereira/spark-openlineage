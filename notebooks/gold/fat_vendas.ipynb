{
 "cells": [
  {
   "cell_type": "code",
   "execution_count": 1,
   "id": "d74758f6-66ef-4790-adb5-884ed2aaf135",
   "metadata": {
    "tags": []
   },
   "outputs": [
    {
     "name": "stderr",
     "output_type": "stream",
     "text": [
      "Warning: Ignoring non-Spark config property: 8\n",
      "25/06/19 18:45:26 WARN NativeCodeLoader: Unable to load native-hadoop library for your platform... using builtin-java classes where applicable\n",
      "Setting default log level to \"WARN\".\n",
      "To adjust logging level use sc.setLogLevel(newLevel). For SparkR, use setLogLevel(newLevel).\n"
     ]
    }
   ],
   "source": [
    "import uuid \n",
    "from pyspark.sql import SparkSession\n",
    "\n",
    "spark = SparkSession.builder \\\n",
    "    .appName(\"GoldVendas\") \\\n",
    "    .config(\"spark.extraListeners\", \"io.openlineage.spark.agent.OpenLineageSparkListener\") \\\n",
    "    .config(\"spark.openlineage.columnLineage.datasetLineageEnabled\", \"true\") \\\n",
    "    .config(\"spark.openlineage.transport.type\", \"http\") \\\n",
    "    .config(\"spark.openlineage.transport.url\", \"http://api:5000\") \\\n",
    "    .config(\"spark.openlineage.namespace\", \"spark_integration\") \\\n",
    "    .config(\"spark.openlineage.parentJobName\", \"customer-job\") \\\n",
    "    .config(\"spark.openlineage.parentRunId\", uuid.uuid4().__str__()) \\\n",
    "    .getOrCreate()"
   ]
  },
  {
   "cell_type": "code",
   "execution_count": 2,
   "id": "7b91a0b9-5d30-4c6b-b9ae-00ac40f2c3e8",
   "metadata": {
    "tags": []
   },
   "outputs": [
    {
     "name": "stderr",
     "output_type": "stream",
     "text": [
      "25/06/19 18:45:29 WARN MetricsConfig: Cannot locate configuration: tried hadoop-metrics2-s3a-file-system.properties,hadoop-metrics2.properties\n",
      "                                                                                "
     ]
    }
   ],
   "source": [
    "delta_path_vendas = \"s3a://silver/fat_vendas/\"\n",
    "# Ler os dados\n",
    "df_vendas = spark.read.format(\"delta\").load(delta_path_vendas)"
   ]
  },
  {
   "cell_type": "code",
   "execution_count": 3,
   "id": "7a340e1a-553c-468c-97bb-ab368d9b5ef9",
   "metadata": {},
   "outputs": [
    {
     "name": "stderr",
     "output_type": "stream",
     "text": [
      "25/06/19 18:45:36 WARN SparkStringUtils: Truncated the string representation of a plan since it was too large. This behavior can be adjusted by setting 'spark.sql.debug.maxToStringFields'.\n",
      "[Stage 9:>                                                          (0 + 2) / 2]"
     ]
    },
    {
     "name": "stdout",
     "output_type": "stream",
     "text": [
      "+-------------+------------------+\n",
      "|customer_name|       total_price|\n",
      "+-------------+------------------+\n",
      "|          Ana| 473.3800048828125|\n",
      "|       Carlos| 32.63999938964844|\n",
      "|         João| 180.8699951171875|\n",
      "|        Lucas|105.07999801635742|\n",
      "|        Maria|214.82000160217285|\n",
      "+-------------+------------------+\n",
      "\n"
     ]
    },
    {
     "name": "stderr",
     "output_type": "stream",
     "text": [
      "                                                                                "
     ]
    }
   ],
   "source": [
    "from pyspark.sql.functions import sum\n",
    "\n",
    "# Agrupar por customer_name e somar a coluna price\n",
    "df_total_por_cliente = df_vendas.groupBy(\"customer_name\") \\\n",
    "                         .agg(sum(\"price\").alias(\"total_price\")) \\\n",
    "                         .orderBy(\"customer_name\")\n",
    "\n",
    "# Exibir o resultado\n",
    "df_total_por_cliente.show()"
   ]
  },
  {
   "cell_type": "code",
   "execution_count": 4,
   "id": "6cf097ea-d611-4daf-b4a4-3a8766e32c23",
   "metadata": {},
   "outputs": [
    {
     "name": "stderr",
     "output_type": "stream",
     "text": [
      "25/06/19 18:45:45 ERROR ContextFactory: Query execution is null: can't emit event for executionId 6\n",
      "25/06/19 18:45:45 ERROR ContextFactory: Query execution is null: can't emit event for executionId 6\n",
      "25/06/19 18:45:45 ERROR ContextFactory: Query execution is null: can't emit event for executionId 8\n",
      "25/06/19 18:45:45 ERROR ContextFactory: Query execution is null: can't emit event for executionId 8\n",
      "25/06/19 18:45:45 ERROR ContextFactory: Query execution is null: can't emit event for executionId 9\n",
      "25/06/19 18:45:45 ERROR ContextFactory: Query execution is null: can't emit event for executionId 9\n",
      "                                                                                "
     ]
    }
   ],
   "source": [
    "# Caminho para o bucket MinIO (formato S3)\n",
    "delta_path = \"s3a://gold/compras_cliente\"\n",
    "\n",
    "# Escrever como tabela Delta\n",
    "df_total_por_cliente.write.format(\"delta\").mode(\"overwrite\").save(delta_path)"
   ]
  },
  {
   "cell_type": "code",
   "execution_count": 5,
   "id": "0a312b61-45db-4cf4-b31f-81e1b2ed2dc9",
   "metadata": {},
   "outputs": [],
   "source": [
    "spark.stop()"
   ]
  }
 ],
 "metadata": {
  "kernelspec": {
   "display_name": "Python 3 (ipykernel)",
   "language": "python",
   "name": "python3"
  },
  "language_info": {
   "codemirror_mode": {
    "name": "ipython",
    "version": 3
   },
   "file_extension": ".py",
   "mimetype": "text/x-python",
   "name": "python",
   "nbconvert_exporter": "python",
   "pygments_lexer": "ipython3",
   "version": "3.12.11"
  }
 },
 "nbformat": 4,
 "nbformat_minor": 5
}
