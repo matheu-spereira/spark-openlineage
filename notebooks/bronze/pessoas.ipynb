{
 "cells": [
  {
   "cell_type": "code",
   "execution_count": 1,
   "id": "d74758f6-66ef-4790-adb5-884ed2aaf135",
   "metadata": {
    "tags": []
   },
   "outputs": [
    {
     "name": "stderr",
     "output_type": "stream",
     "text": [
      "Warning: Ignoring non-Spark config property: 8\n",
      "25/06/19 18:11:38 WARN NativeCodeLoader: Unable to load native-hadoop library for your platform... using builtin-java classes where applicable\n",
      "Setting default log level to \"WARN\".\n",
      "To adjust logging level use sc.setLogLevel(newLevel). For SparkR, use setLogLevel(newLevel).\n"
     ]
    }
   ],
   "source": [
    "import uuid \n",
    "from pyspark.sql import SparkSession\n",
    "\n",
    "spark = SparkSession.builder \\\n",
    "    .appName(\"BronzePessoas\") \\\n",
    "    .config(\"spark.extraListeners\", \"io.openlineage.spark.agent.OpenLineageSparkListener\") \\\n",
    "    .config(\"spark.openlineage.columnLineage.datasetLineageEnabled\", \"true\") \\\n",
    "    .config(\"spark.openlineage.transport.type\", \"http\") \\\n",
    "    .config(\"spark.openlineage.transport.url\", \"http://api:5000\") \\\n",
    "    .config(\"spark.openlineage.namespace\", \"spark_integration\") \\\n",
    "    .config(\"spark.openlineage.parentJobName\", \"customer-job\") \\\n",
    "    .config(\"spark.openlineage.parentRunId\", uuid.uuid4().__str__()) \\\n",
    "    .getOrCreate()"
   ]
  },
  {
   "cell_type": "code",
   "execution_count": 2,
   "id": "7b91a0b9-5d30-4c6b-b9ae-00ac40f2c3e8",
   "metadata": {
    "tags": []
   },
   "outputs": [
    {
     "name": "stderr",
     "output_type": "stream",
     "text": [
      "25/06/19 18:11:40 WARN SparkSession: Using an existing Spark session; only runtime SQL configurations will take effect.\n"
     ]
    }
   ],
   "source": [
    "from pyspark.sql import SparkSession\n",
    "from pyspark.sql.functions import col\n",
    "from pyspark.sql.window import Window\n",
    "from pyspark.sql.functions import dense_rank\n",
    "\n",
    "# Inicializar Spark\n",
    "spark = SparkSession.builder.appName(\"CriarPessoas\").getOrCreate()\n",
    "\n",
    "# Lista de nomes de clientes (extraída dos seus dados)\n",
    "nomes = [\n",
    "    \"João\",\n",
    "    \"Maria\",\n",
    "    \"Lucas\",\n",
    "    \"Carlos\",\n",
    "    \"Ana\"\n",
    "]\n",
    "\n",
    "# Criar DataFrame de nomes únicos\n",
    "df_nomes = spark.createDataFrame([(nome,) for nome in nomes], [\"customer_name\"])\n",
    "\n",
    "# Adicionar id_customer usando dense_rank\n",
    "window_spec = Window.orderBy(\"customer_name\")\n",
    "df_pessoas = df_nomes.withColumn(\"id_customer\", dense_rank().over(window_spec))\n",
    "\n",
    "# Reordenar colunas\n",
    "df_pessoas = df_pessoas.select(\"id_customer\", \"customer_name\")"
   ]
  },
  {
   "cell_type": "code",
   "execution_count": 3,
   "id": "6cf097ea-d611-4daf-b4a4-3a8766e32c23",
   "metadata": {},
   "outputs": [
    {
     "name": "stderr",
     "output_type": "stream",
     "text": [
      "25/06/19 18:11:41 WARN MetricsConfig: Cannot locate configuration: tried hadoop-metrics2-s3a-file-system.properties,hadoop-metrics2.properties\n",
      "25/06/19 18:11:44 WARN WindowExec: No Partition Defined for Window operation! Moving all data to a single partition, this can cause serious performance degradation.\n",
      "25/06/19 18:11:44 WARN WindowExec: No Partition Defined for Window operation! Moving all data to a single partition, this can cause serious performance degradation.\n",
      "25/06/19 18:11:44 WARN WindowExec: No Partition Defined for Window operation! Moving all data to a single partition, this can cause serious performance degradation.\n",
      "25/06/19 18:11:48 WARN WindowExec: No Partition Defined for Window operation! Moving all data to a single partition, this can cause serious performance degradation.\n",
      "25/06/19 18:11:48 WARN WindowExec: No Partition Defined for Window operation! Moving all data to a single partition, this can cause serious performance degradation.\n",
      "                                                                                "
     ]
    }
   ],
   "source": [
    "# Caminho para o bucket MinIO (formato S3)\n",
    "delta_path = \"s3a://bronze/pessoas\"\n",
    "\n",
    "# Escrever como tabela Delta\n",
    "df_pessoas.write.format(\"delta\").mode(\"overwrite\").save(delta_path)"
   ]
  },
  {
   "cell_type": "code",
   "execution_count": 4,
   "id": "0a312b61-45db-4cf4-b31f-81e1b2ed2dc9",
   "metadata": {},
   "outputs": [],
   "source": [
    "spark.stop()"
   ]
  },
  {
   "cell_type": "code",
   "execution_count": null,
   "id": "23e88173-0e63-487b-adab-a893e44c3528",
   "metadata": {},
   "outputs": [],
   "source": []
  }
 ],
 "metadata": {
  "kernelspec": {
   "display_name": "Python 3 (ipykernel)",
   "language": "python",
   "name": "python3"
  },
  "language_info": {
   "codemirror_mode": {
    "name": "ipython",
    "version": 3
   },
   "file_extension": ".py",
   "mimetype": "text/x-python",
   "name": "python",
   "nbconvert_exporter": "python",
   "pygments_lexer": "ipython3",
   "version": "3.12.11"
  }
 },
 "nbformat": 4,
 "nbformat_minor": 5
}
