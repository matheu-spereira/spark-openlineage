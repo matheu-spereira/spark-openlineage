{
 "cells": [
  {
   "cell_type": "code",
   "execution_count": 1,
   "id": "d74758f6-66ef-4790-adb5-884ed2aaf135",
   "metadata": {
    "tags": []
   },
   "outputs": [
    {
     "name": "stderr",
     "output_type": "stream",
     "text": [
      "Warning: Ignoring non-Spark config property: 8\n",
      "25/06/19 18:11:42 WARN NativeCodeLoader: Unable to load native-hadoop library for your platform... using builtin-java classes where applicable\n",
      "Setting default log level to \"WARN\".\n",
      "To adjust logging level use sc.setLogLevel(newLevel). For SparkR, use setLogLevel(newLevel).\n",
      "25/06/19 18:11:43 WARN Utils: Service 'SparkUI' could not bind on port 4040. Attempting port 4041.\n"
     ]
    }
   ],
   "source": [
    "import uuid \n",
    "from pyspark.sql import SparkSession\n",
    "\n",
    "spark = SparkSession.builder \\\n",
    "    .appName(\"BronzeVendas\") \\\n",
    "    .config(\"spark.extraListeners\", \"io.openlineage.spark.agent.OpenLineageSparkListener\") \\\n",
    "    .config(\"spark.openlineage.columnLineage.datasetLineageEnabled\", \"true\") \\\n",
    "    .config(\"spark.openlineage.transport.type\", \"http\") \\\n",
    "    .config(\"spark.openlineage.transport.url\", \"http://api:5000\") \\\n",
    "    .config(\"spark.openlineage.namespace\", \"spark_integration\") \\\n",
    "    .config(\"spark.openlineage.parentJobName\", \"customer-job\") \\\n",
    "    .config(\"spark.openlineage.parentRunId\", uuid.uuid4().__str__()) \\\n",
    "    .getOrCreate()"
   ]
  },
  {
   "cell_type": "code",
   "execution_count": 2,
   "id": "7b91a0b9-5d30-4c6b-b9ae-00ac40f2c3e8",
   "metadata": {
    "tags": []
   },
   "outputs": [
    {
     "name": "stderr",
     "output_type": "stream",
     "text": [
      "                                                                                "
     ]
    },
    {
     "name": "stdout",
     "output_type": "stream",
     "text": [
      "+--------+----------+-----+--------------------+-----------+\n",
      "|order_id| food_item|price|          order_time|id_customer|\n",
      "+--------+----------+-----+--------------------+-----------+\n",
      "|       1|     Sushi|32.05|2025-06-19 15:13:...|          4|\n",
      "|       2|   Lasanha|34.07|2025-06-19 04:55:...|          1|\n",
      "|       3|    Salada|28.15|2025-06-18 19:33:...|          2|\n",
      "|       4|Hamburguer| 79.4|2025-06-18 20:45:...|          2|\n",
      "|       5|     Pizza|43.74|2025-06-19 15:40:...|          1|\n",
      "|       6|     Pizza|76.93|2025-06-18 23:20:...|          4|\n",
      "|       7|     Sushi|63.18|2025-06-19 07:16:...|          5|\n",
      "|       8|     Pizza|17.07|2025-06-19 02:37:...|          1|\n",
      "|       9|    Salada| 25.8|2025-06-19 02:09:...|          2|\n",
      "|      10|   Lasanha|65.81|2025-06-19 13:43:...|          3|\n",
      "|      11|    Salada|33.66|2025-06-19 04:37:...|          5|\n",
      "|      12|    Salada|53.45|2025-06-18 21:25:...|          3|\n",
      "|      13|     Sushi| 36.1|2025-06-18 22:17:...|          4|\n",
      "|      14|     Pizza|46.39|2025-06-19 17:42:...|          3|\n",
      "|      15|    Salada|57.02|2025-06-19 09:01:...|          1|\n",
      "|      16|    Salada|46.09|2025-06-19 10:54:...|          3|\n",
      "|      17|   Lasanha| 71.5|2025-06-19 12:24:...|          5|\n",
      "|      18|Hamburguer|37.12|2025-06-19 14:36:...|          2|\n",
      "|      19|     Sushi|46.42|2025-06-19 15:48:...|          4|\n",
      "|      20|   Lasanha|78.68|2025-06-19 13:44:...|          5|\n",
      "+--------+----------+-----+--------------------+-----------+\n",
      "\n"
     ]
    }
   ],
   "source": [
    "from pyspark.sql.types import StructType, StructField, IntegerType, StringType, FloatType, TimestampType\n",
    "from pyspark.sql.functions import when\n",
    "from datetime import datetime, timedelta\n",
    "import random\n",
    "\n",
    "# Dados fictícios\n",
    "def generate_fake_data(n=20):\n",
    "    names = [\"João\", \"Maria\", \"Carlos\", \"Ana\", \"Lucas\"]\n",
    "    foods = [\"Pizza\", \"Sushi\", \"Hamburguer\", \"Salada\", \"Lasanha\"]\n",
    "    data = []\n",
    "\n",
    "    for i in range(1, n + 1):\n",
    "        name = random.choice(names)\n",
    "        food = random.choice(foods)\n",
    "        price = round(random.uniform(15.0, 80.0), 2)\n",
    "        time = datetime.now() - timedelta(minutes=random.randint(0, 1440))\n",
    "        data.append((i, name, food, price, time))\n",
    "    return data\n",
    "\n",
    "# Schema\n",
    "schema = StructType([\n",
    "    StructField(\"order_id\", IntegerType(), False),\n",
    "    StructField(\"customer_name\", StringType(), True),\n",
    "    StructField(\"food_item\", StringType(), True),\n",
    "    StructField(\"price\", FloatType(), True),\n",
    "    StructField(\"order_time\", TimestampType(), True),\n",
    "])\n",
    "\n",
    "# Criar DataFrame\n",
    "data = generate_fake_data(20)\n",
    "df = spark.createDataFrame(data, schema)\n",
    "\n",
    "# Mapear nomes para id_customer usando when\n",
    "df = df.withColumn(\"id_customer\",\n",
    "    when(df.customer_name == \"João\", 1)\n",
    "    .when(df.customer_name == \"Maria\", 2)\n",
    "    .when(df.customer_name == \"Carlos\", 3)\n",
    "    .when(df.customer_name == \"Ana\", 4)\n",
    "    .when(df.customer_name == \"Lucas\", 5)\n",
    ")\n",
    "\n",
    "# Remover customer_name\n",
    "df_final = df.drop(\"customer_name\")\n",
    "\n",
    "# Mostrar resultado\n",
    "df_final.show()\n"
   ]
  },
  {
   "cell_type": "code",
   "execution_count": 3,
   "id": "6cf097ea-d611-4daf-b4a4-3a8766e32c23",
   "metadata": {},
   "outputs": [
    {
     "name": "stderr",
     "output_type": "stream",
     "text": [
      "25/06/19 18:11:51 WARN MetricsConfig: Cannot locate configuration: tried hadoop-metrics2-s3a-file-system.properties,hadoop-metrics2.properties\n",
      "                                                                                "
     ]
    }
   ],
   "source": [
    "# Caminho para o bucket MinIO (formato S3)\n",
    "delta_path = \"s3a://bronze/vendas\"\n",
    "\n",
    "# Escrever como tabela Delta\n",
    "df_final.write.format(\"delta\").mode(\"overwrite\").save(delta_path)"
   ]
  },
  {
   "cell_type": "code",
   "execution_count": 4,
   "id": "0a312b61-45db-4cf4-b31f-81e1b2ed2dc9",
   "metadata": {},
   "outputs": [],
   "source": [
    "spark.stop()"
   ]
  }
 ],
 "metadata": {
  "kernelspec": {
   "display_name": "Python 3 (ipykernel)",
   "language": "python",
   "name": "python3"
  },
  "language_info": {
   "codemirror_mode": {
    "name": "ipython",
    "version": 3
   },
   "file_extension": ".py",
   "mimetype": "text/x-python",
   "name": "python",
   "nbconvert_exporter": "python",
   "pygments_lexer": "ipython3",
   "version": "3.12.11"
  }
 },
 "nbformat": 4,
 "nbformat_minor": 5
}
