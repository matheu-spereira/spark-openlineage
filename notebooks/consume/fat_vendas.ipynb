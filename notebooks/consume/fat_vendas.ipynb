{
 "cells": [
  {
   "cell_type": "code",
   "execution_count": 1,
   "id": "d74758f6-66ef-4790-adb5-884ed2aaf135",
   "metadata": {
    "tags": []
   },
   "outputs": [
    {
     "name": "stderr",
     "output_type": "stream",
     "text": [
      "Warning: Ignoring non-Spark config property: 8\n",
      "25/06/19 18:13:39 WARN NativeCodeLoader: Unable to load native-hadoop library for your platform... using builtin-java classes where applicable\n",
      "Setting default log level to \"WARN\".\n",
      "To adjust logging level use sc.setLogLevel(newLevel). For SparkR, use setLogLevel(newLevel).\n"
     ]
    }
   ],
   "source": [
    "import uuid \n",
    "from pyspark.sql import SparkSession\n",
    "\n",
    "spark = SparkSession.builder \\\n",
    "    .appName(\"COnsumeVendas\") \\\n",
    "    .master('spark://spark-master:7077') \\\n",
    "    .config(\"spark.extraListeners\", \"io.openlineage.spark.agent.OpenLineageSparkListener\") \\\n",
    "    .config(\"spark.openlineage.columnLineage.datasetLineageEnabled\", \"true\") \\\n",
    "    .config(\"spark.openlineage.transport.type\", \"http\") \\\n",
    "    .config(\"spark.openlineage.transport.url\", \"http://api:5000\") \\\n",
    "    .config(\"spark.openlineage.namespace\", \"spark_integration\") \\\n",
    "    .config(\"spark.openlineage.parentJobName\", \"customer-job\") \\\n",
    "    .config(\"spark.openlineage.parentRunId\", uuid.uuid4().__str__()) \\\n",
    "    .getOrCreate()"
   ]
  },
  {
   "cell_type": "code",
   "execution_count": 2,
   "id": "7b91a0b9-5d30-4c6b-b9ae-00ac40f2c3e8",
   "metadata": {
    "tags": []
   },
   "outputs": [
    {
     "name": "stderr",
     "output_type": "stream",
     "text": [
      "25/06/19 18:13:42 WARN MetricsConfig: Cannot locate configuration: tried hadoop-metrics2-s3a-file-system.properties,hadoop-metrics2.properties\n",
      "                                                                                "
     ]
    }
   ],
   "source": [
    "delta_path_vendas = \"s3a://gold/compras_cliente/\"\n",
    "# Ler os dados\n",
    "df_vendas = spark.read.format(\"delta\").load(delta_path_vendas)"
   ]
  },
  {
   "cell_type": "code",
   "execution_count": 3,
   "id": "7a340e1a-553c-468c-97bb-ab368d9b5ef9",
   "metadata": {},
   "outputs": [
    {
     "name": "stderr",
     "output_type": "stream",
     "text": [
      "25/06/19 18:13:47 WARN SparkStringUtils: Truncated the string representation of a plan since it was too large. This behavior can be adjusted by setting 'spark.sql.debug.maxToStringFields'.\n",
      "[Stage 9:>                                                          (0 + 1) / 1]"
     ]
    },
    {
     "name": "stdout",
     "output_type": "stream",
     "text": [
      "+-------------+------------------+\n",
      "|customer_name|       total_price|\n",
      "+-------------+------------------+\n",
      "|          Ana| 151.9000015258789|\n",
      "|       Carlos| 170.4699993133545|\n",
      "|         João|211.73999786376953|\n",
      "|        Lucas|191.49999618530273|\n",
      "|        Maria|247.02000045776367|\n",
      "+-------------+------------------+\n",
      "\n"
     ]
    },
    {
     "name": "stderr",
     "output_type": "stream",
     "text": [
      "                                                                                "
     ]
    }
   ],
   "source": [
    "df_vendas.show()"
   ]
  },
  {
   "cell_type": "code",
   "execution_count": 4,
   "id": "6cf097ea-d611-4daf-b4a4-3a8766e32c23",
   "metadata": {},
   "outputs": [
    {
     "name": "stderr",
     "output_type": "stream",
     "text": [
      "25/06/19 18:14:00 ERROR ContextFactory: Query execution is null: can't emit event for executionId 7\n",
      "25/06/19 18:14:00 ERROR ContextFactory: Query execution is null: can't emit event for executionId 7\n",
      "25/06/19 18:14:00 ERROR ContextFactory: Query execution is null: can't emit event for executionId 9\n",
      "25/06/19 18:14:00 ERROR ContextFactory: Query execution is null: can't emit event for executionId 9\n",
      "25/06/19 18:14:00 ERROR ContextFactory: Query execution is null: can't emit event for executionId 10\n",
      "25/06/19 18:14:00 ERROR ContextFactory: Query execution is null: can't emit event for executionId 10\n",
      "25/06/19 18:14:03 ERROR ContextFactory: Query execution is null: can't emit event for executionId 11\n",
      "25/06/19 18:14:03 ERROR ContextFactory: Query execution is null: can't emit event for executionId 11\n",
      "25/06/19 18:14:03 ERROR ContextFactory: Query execution is null: can't emit event for executionId 12\n",
      "25/06/19 18:14:03 ERROR ContextFactory: Query execution is null: can't emit event for executionId 12\n"
     ]
    }
   ],
   "source": [
    "# Configurações de conexão PostgreSQL\n",
    "postgres_db = \"jdbc:postgresql://dw:5432/postgres\"\n",
    "usuario = \"dw\"\n",
    "senha = \"postgres\"\n",
    "\n",
    "\n",
    "# Gravar no PostgreSQL\n",
    "df_vendas.write \\\n",
    "    .format(\"jdbc\") \\\n",
    "    .option(\"url\", postgres_db) \\\n",
    "    .option(\"dbtable\", \"public.compras_clientes\") \\\n",
    "    .option(\"user\", usuario) \\\n",
    "    .option(\"password\", senha) \\\n",
    "    .option(\"driver\", \"org.postgresql.Driver\") \\\n",
    "    .mode(\"overwrite\") \\\n",
    "    .save()"
   ]
  },
  {
   "cell_type": "code",
   "execution_count": 5,
   "id": "0a312b61-45db-4cf4-b31f-81e1b2ed2dc9",
   "metadata": {},
   "outputs": [],
   "source": [
    "spark.stop()"
   ]
  }
 ],
 "metadata": {
  "kernelspec": {
   "display_name": "Python 3 (ipykernel)",
   "language": "python",
   "name": "python3"
  },
  "language_info": {
   "codemirror_mode": {
    "name": "ipython",
    "version": 3
   },
   "file_extension": ".py",
   "mimetype": "text/x-python",
   "name": "python",
   "nbconvert_exporter": "python",
   "pygments_lexer": "ipython3",
   "version": "3.12.11"
  }
 },
 "nbformat": 4,
 "nbformat_minor": 5
}
