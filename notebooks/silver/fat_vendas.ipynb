{
 "cells": [
  {
   "cell_type": "code",
   "execution_count": 1,
   "id": "d74758f6-66ef-4790-adb5-884ed2aaf135",
   "metadata": {
    "tags": []
   },
   "outputs": [
    {
     "name": "stderr",
     "output_type": "stream",
     "text": [
      "Warning: Ignoring non-Spark config property: 8\n",
      "25/06/19 18:12:17 WARN NativeCodeLoader: Unable to load native-hadoop library for your platform... using builtin-java classes where applicable\n",
      "Setting default log level to \"WARN\".\n",
      "To adjust logging level use sc.setLogLevel(newLevel). For SparkR, use setLogLevel(newLevel).\n"
     ]
    }
   ],
   "source": [
    "import uuid \n",
    "from pyspark.sql import SparkSession\n",
    "\n",
    "spark = SparkSession.builder \\\n",
    "    .appName(\"SilverVendas\") \\\n",
    "    .config(\"spark.extraListeners\", \"io.openlineage.spark.agent.OpenLineageSparkListener\") \\\n",
    "    .config(\"spark.openlineage.columnLineage.datasetLineageEnabled\", \"true\") \\\n",
    "    .config(\"spark.openlineage.transport.type\", \"http\") \\\n",
    "    .config(\"spark.openlineage.transport.url\", \"http://api:5000\") \\\n",
    "    .config(\"spark.openlineage.namespace\", \"spark_integration\") \\\n",
    "    .config(\"spark.openlineage.parentJobName\", \"customer-job\") \\\n",
    "    .config(\"spark.openlineage.parentRunId\", uuid.uuid4().__str__()) \\\n",
    "    .getOrCreate()"
   ]
  },
  {
   "cell_type": "code",
   "execution_count": 2,
   "id": "7b91a0b9-5d30-4c6b-b9ae-00ac40f2c3e8",
   "metadata": {
    "tags": []
   },
   "outputs": [
    {
     "name": "stderr",
     "output_type": "stream",
     "text": [
      "25/06/19 18:12:20 WARN MetricsConfig: Cannot locate configuration: tried hadoop-metrics2-s3a-file-system.properties,hadoop-metrics2.properties\n",
      "                                                                                "
     ]
    }
   ],
   "source": [
    "delta_path_vendas = \"s3a://bronze/vendas/\"\n",
    "delta_path_pessoas = \"s3a://bronze/pessoas/\"\n",
    "\n",
    "# Ler os dados\n",
    "df_vendas = spark.read.format(\"delta\").load(delta_path_vendas)\n",
    "df_pessoas = spark.read.format(\"delta\").load(delta_path_pessoas)"
   ]
  },
  {
   "cell_type": "code",
   "execution_count": 3,
   "id": "06e36558-71e4-4d0e-8bf5-15e1b8124023",
   "metadata": {},
   "outputs": [
    {
     "name": "stderr",
     "output_type": "stream",
     "text": [
      "25/06/19 18:12:26 WARN SparkStringUtils: Truncated the string representation of a plan since it was too large. This behavior can be adjusted by setting 'spark.sql.debug.maxToStringFields'.\n",
      "[Stage 10:>                                                         (0 + 1) / 1]"
     ]
    },
    {
     "name": "stdout",
     "output_type": "stream",
     "text": [
      "+--------+----------+-----+--------------------+-----------+\n",
      "|order_id| food_item|price|          order_time|id_customer|\n",
      "+--------+----------+-----+--------------------+-----------+\n",
      "|       1|     Sushi|32.05|2025-06-19 15:13:...|          4|\n",
      "|       2|   Lasanha|34.07|2025-06-19 04:55:...|          1|\n",
      "|       3|    Salada|28.15|2025-06-18 19:33:...|          2|\n",
      "|       4|Hamburguer| 79.4|2025-06-18 20:45:...|          2|\n",
      "|       5|     Pizza|43.74|2025-06-19 15:40:...|          1|\n",
      "|       6|     Pizza|76.93|2025-06-18 23:20:...|          4|\n",
      "|       7|     Sushi|63.18|2025-06-19 07:16:...|          5|\n",
      "|       8|     Pizza|17.07|2025-06-19 02:37:...|          1|\n",
      "|       9|    Salada| 25.8|2025-06-19 02:09:...|          2|\n",
      "|      10|   Lasanha|65.81|2025-06-19 13:43:...|          3|\n",
      "|      11|    Salada|33.66|2025-06-19 04:37:...|          5|\n",
      "|      12|    Salada|53.45|2025-06-18 21:25:...|          3|\n",
      "|      13|     Sushi| 36.1|2025-06-18 22:17:...|          4|\n",
      "|      14|     Pizza|46.39|2025-06-19 17:42:...|          3|\n",
      "|      15|    Salada|57.02|2025-06-19 09:01:...|          1|\n",
      "|      16|    Salada|46.09|2025-06-19 10:54:...|          3|\n",
      "|      17|   Lasanha| 71.5|2025-06-19 12:24:...|          5|\n",
      "|      18|Hamburguer|37.12|2025-06-19 14:36:...|          2|\n",
      "|      19|     Sushi|46.42|2025-06-19 15:48:...|          4|\n",
      "|      20|   Lasanha|78.68|2025-06-19 13:44:...|          5|\n",
      "+--------+----------+-----+--------------------+-----------+\n",
      "\n"
     ]
    },
    {
     "name": "stderr",
     "output_type": "stream",
     "text": [
      "                                                                                "
     ]
    }
   ],
   "source": [
    "df_vendas.show()"
   ]
  },
  {
   "cell_type": "code",
   "execution_count": 4,
   "id": "9f637391-09ff-4569-ba1d-71c672e183a4",
   "metadata": {},
   "outputs": [
    {
     "name": "stderr",
     "output_type": "stream",
     "text": [
      "25/06/19 18:12:34 ERROR ContextFactory: Query execution is null: can't emit event for executionId 8\n",
      "25/06/19 18:12:34 ERROR ContextFactory: Query execution is null: can't emit event for executionId 8\n",
      "25/06/19 18:12:34 ERROR ContextFactory: Query execution is null: can't emit event for executionId 9\n",
      "[Stage 16:=====================================================>  (48 + 2) / 50]"
     ]
    },
    {
     "name": "stdout",
     "output_type": "stream",
     "text": [
      "+-----------+-------------+\n",
      "|id_customer|customer_name|\n",
      "+-----------+-------------+\n",
      "|          1|          Ana|\n",
      "|          2|       Carlos|\n",
      "|          3|         João|\n",
      "|          4|        Lucas|\n",
      "|          5|        Maria|\n",
      "+-----------+-------------+\n",
      "\n"
     ]
    },
    {
     "name": "stderr",
     "output_type": "stream",
     "text": [
      "                                                                                "
     ]
    }
   ],
   "source": [
    "df_pessoas.show()"
   ]
  },
  {
   "cell_type": "code",
   "execution_count": 5,
   "id": "7a340e1a-553c-468c-97bb-ab368d9b5ef9",
   "metadata": {},
   "outputs": [],
   "source": [
    "from pyspark.sql.functions import col, current_date\n",
    "\n",
    "df_joined = df_vendas.join(\n",
    "    df_pessoas,\n",
    "    on=\"id_customer\",\n",
    "    how=\"left\"\n",
    ").withColumnRenamed(\"order_id\", \"nk_order\") \\\n",
    ".withColumnRenamed(\"food_item\", \"item\") \\\n",
    ".withColumnRenamed(\"price\", \"price\") \\\n",
    ".withColumnRenamed(\"order_time\", \"order_time\") \\\n",
    ".withColumn(\"etl_date\", current_date())  # Adiciona a data do processamento"
   ]
  },
  {
   "cell_type": "code",
   "execution_count": 6,
   "id": "948a6fef-7ccb-46d4-acfe-7d8d66584c16",
   "metadata": {},
   "outputs": [
    {
     "name": "stderr",
     "output_type": "stream",
     "text": [
      "25/06/19 18:12:41 ERROR ContextFactory: Query execution is null: can't emit event for executionId 13\n",
      "25/06/19 18:12:41 ERROR ContextFactory: Query execution is null: can't emit event for executionId 13\n",
      "[Stage 26:>                                                         (0 + 1) / 1]"
     ]
    },
    {
     "name": "stdout",
     "output_type": "stream",
     "text": [
      "+-----------+--------+----------+-----+--------------------+-------------+----------+\n",
      "|id_customer|nk_order|      item|price|          order_time|customer_name|  etl_date|\n",
      "+-----------+--------+----------+-----+--------------------+-------------+----------+\n",
      "|          4|       1|     Sushi|32.05|2025-06-19 15:13:...|        Lucas|2025-06-19|\n",
      "|          1|       2|   Lasanha|34.07|2025-06-19 04:55:...|          Ana|2025-06-19|\n",
      "|          2|       3|    Salada|28.15|2025-06-18 19:33:...|       Carlos|2025-06-19|\n",
      "|          2|       4|Hamburguer| 79.4|2025-06-18 20:45:...|       Carlos|2025-06-19|\n",
      "|          1|       5|     Pizza|43.74|2025-06-19 15:40:...|          Ana|2025-06-19|\n",
      "|          4|       6|     Pizza|76.93|2025-06-18 23:20:...|        Lucas|2025-06-19|\n",
      "|          5|       7|     Sushi|63.18|2025-06-19 07:16:...|        Maria|2025-06-19|\n",
      "|          1|       8|     Pizza|17.07|2025-06-19 02:37:...|          Ana|2025-06-19|\n",
      "|          2|       9|    Salada| 25.8|2025-06-19 02:09:...|       Carlos|2025-06-19|\n",
      "|          3|      10|   Lasanha|65.81|2025-06-19 13:43:...|         João|2025-06-19|\n",
      "|          5|      11|    Salada|33.66|2025-06-19 04:37:...|        Maria|2025-06-19|\n",
      "|          3|      12|    Salada|53.45|2025-06-18 21:25:...|         João|2025-06-19|\n",
      "|          4|      13|     Sushi| 36.1|2025-06-18 22:17:...|        Lucas|2025-06-19|\n",
      "|          3|      14|     Pizza|46.39|2025-06-19 17:42:...|         João|2025-06-19|\n",
      "|          1|      15|    Salada|57.02|2025-06-19 09:01:...|          Ana|2025-06-19|\n",
      "|          3|      16|    Salada|46.09|2025-06-19 10:54:...|         João|2025-06-19|\n",
      "|          5|      17|   Lasanha| 71.5|2025-06-19 12:24:...|        Maria|2025-06-19|\n",
      "|          2|      18|Hamburguer|37.12|2025-06-19 14:36:...|       Carlos|2025-06-19|\n",
      "|          4|      19|     Sushi|46.42|2025-06-19 15:48:...|        Lucas|2025-06-19|\n",
      "|          5|      20|   Lasanha|78.68|2025-06-19 13:44:...|        Maria|2025-06-19|\n",
      "+-----------+--------+----------+-----+--------------------+-------------+----------+\n",
      "\n"
     ]
    },
    {
     "name": "stderr",
     "output_type": "stream",
     "text": [
      "                                                                                "
     ]
    }
   ],
   "source": [
    "df_joined.show()"
   ]
  },
  {
   "cell_type": "code",
   "execution_count": 7,
   "id": "6cf097ea-d611-4daf-b4a4-3a8766e32c23",
   "metadata": {},
   "outputs": [
    {
     "name": "stderr",
     "output_type": "stream",
     "text": [
      "25/06/19 18:12:46 ERROR ContextFactory: Query execution is null: can't emit event for executionId 16\n",
      "25/06/19 18:12:46 ERROR ContextFactory: Query execution is null: can't emit event for executionId 16\n",
      "25/06/19 18:12:46 ERROR ContextFactory: Query execution is null: can't emit event for executionId 18\n",
      "25/06/19 18:12:46 ERROR ContextFactory: Query execution is null: can't emit event for executionId 18\n",
      "25/06/19 18:12:46 ERROR ContextFactory: Query execution is null: can't emit event for executionId 19\n",
      "25/06/19 18:12:46 ERROR ContextFactory: Query execution is null: can't emit event for executionId 19\n",
      "25/06/19 18:12:46 ERROR ContextFactory: Query execution is null: can't emit event for executionId 20\n",
      "25/06/19 18:12:46 ERROR ContextFactory: Query execution is null: can't emit event for executionId 20\n",
      "25/06/19 18:12:46 ERROR ContextFactory: Query execution is null: can't emit event for executionId 21\n",
      "25/06/19 18:12:46 ERROR ContextFactory: Query execution is null: can't emit event for executionId 21\n",
      "25/06/19 18:12:46 ERROR ContextFactory: Query execution is null: can't emit event for executionId 17\n",
      "25/06/19 18:12:46 ERROR ContextFactory: Query execution is null: can't emit event for executionId 17\n",
      "25/06/19 18:12:46 ERROR ContextFactory: Query execution is null: can't emit event for executionId 17\n",
      "25/06/19 18:12:46 ERROR ContextFactory: Query execution is null: can't emit event for executionId 22\n",
      "25/06/19 18:12:46 ERROR ContextFactory: Query execution is null: can't emit event for executionId 22\n"
     ]
    }
   ],
   "source": [
    "# Caminho para o bucket MinIO (formato S3)\n",
    "delta_path = \"s3a://silver/fat_vendas\"\n",
    "\n",
    "# Escrever como tabela Delta\n",
    "df_joined.write.format(\"delta\").mode(\"overwrite\").save(delta_path)"
   ]
  },
  {
   "cell_type": "code",
   "execution_count": 8,
   "id": "0a312b61-45db-4cf4-b31f-81e1b2ed2dc9",
   "metadata": {},
   "outputs": [],
   "source": [
    "spark.stop()"
   ]
  }
 ],
 "metadata": {
  "kernelspec": {
   "display_name": "Python 3 (ipykernel)",
   "language": "python",
   "name": "python3"
  },
  "language_info": {
   "codemirror_mode": {
    "name": "ipython",
    "version": 3
   },
   "file_extension": ".py",
   "mimetype": "text/x-python",
   "name": "python",
   "nbconvert_exporter": "python",
   "pygments_lexer": "ipython3",
   "version": "3.12.11"
  }
 },
 "nbformat": 4,
 "nbformat_minor": 5
}
