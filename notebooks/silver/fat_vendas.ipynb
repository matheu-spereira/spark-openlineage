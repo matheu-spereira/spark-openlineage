{
 "cells": [
  {
   "cell_type": "code",
   "execution_count": 1,
   "id": "d74758f6-66ef-4790-adb5-884ed2aaf135",
   "metadata": {
    "tags": []
   },
   "outputs": [
    {
     "name": "stderr",
     "output_type": "stream",
     "text": [
      "Warning: Ignoring non-Spark config property: 8\n",
      "25/06/19 18:44:45 WARN NativeCodeLoader: Unable to load native-hadoop library for your platform... using builtin-java classes where applicable\n",
      "Setting default log level to \"WARN\".\n",
      "To adjust logging level use sc.setLogLevel(newLevel). For SparkR, use setLogLevel(newLevel).\n"
     ]
    }
   ],
   "source": [
    "import uuid \n",
    "from pyspark.sql import SparkSession\n",
    "\n",
    "spark = SparkSession.builder \\\n",
    "    .appName(\"SilverVendas\") \\\n",
    "    .config(\"spark.extraListeners\", \"io.openlineage.spark.agent.OpenLineageSparkListener\") \\\n",
    "    .config(\"spark.openlineage.columnLineage.datasetLineageEnabled\", \"true\") \\\n",
    "    .config(\"spark.openlineage.transport.type\", \"http\") \\\n",
    "    .config(\"spark.openlineage.transport.url\", \"http://api:5000\") \\\n",
    "    .config(\"spark.openlineage.namespace\", \"spark_integration\") \\\n",
    "    .config(\"spark.openlineage.parentJobName\", \"customer-job\") \\\n",
    "    .config(\"spark.openlineage.parentRunId\", uuid.uuid4().__str__()) \\\n",
    "    .getOrCreate()"
   ]
  },
  {
   "cell_type": "code",
   "execution_count": 2,
   "id": "7b91a0b9-5d30-4c6b-b9ae-00ac40f2c3e8",
   "metadata": {
    "tags": []
   },
   "outputs": [
    {
     "name": "stderr",
     "output_type": "stream",
     "text": [
      "25/06/19 18:44:47 WARN MetricsConfig: Cannot locate configuration: tried hadoop-metrics2-s3a-file-system.properties,hadoop-metrics2.properties\n",
      "                                                                                "
     ]
    }
   ],
   "source": [
    "delta_path_vendas = \"s3a://bronze/vendas/\"\n",
    "delta_path_pessoas = \"s3a://bronze/pessoas/\"\n",
    "\n",
    "# Ler os dados\n",
    "df_vendas = spark.read.format(\"delta\").load(delta_path_vendas)\n",
    "df_pessoas = spark.read.format(\"delta\").load(delta_path_pessoas)"
   ]
  },
  {
   "cell_type": "code",
   "execution_count": 3,
   "id": "06e36558-71e4-4d0e-8bf5-15e1b8124023",
   "metadata": {},
   "outputs": [
    {
     "name": "stderr",
     "output_type": "stream",
     "text": [
      "25/06/19 18:44:54 WARN SparkStringUtils: Truncated the string representation of a plan since it was too large. This behavior can be adjusted by setting 'spark.sql.debug.maxToStringFields'.\n",
      "                                                                                "
     ]
    },
    {
     "name": "stdout",
     "output_type": "stream",
     "text": [
      "+--------+----------+-----+--------------------+-----------+\n",
      "|order_id| food_item|price|          order_time|id_customer|\n",
      "+--------+----------+-----+--------------------+-----------+\n",
      "|      11|    Salada|35.48|2025-06-19 08:24:...|          3|\n",
      "|      12|   Lasanha|52.04|2025-06-19 18:34:...|          5|\n",
      "|      13|     Pizza|76.65|2025-06-19 07:35:...|          1|\n",
      "|      14|     Sushi|36.17|2025-06-19 02:05:...|          3|\n",
      "|      15|   Lasanha| 20.8|2025-06-19 17:25:...|          5|\n",
      "|      16|Hamburguer|75.32|2025-06-19 09:45:...|          1|\n",
      "|      17|     Sushi|36.52|2025-06-19 02:16:...|          3|\n",
      "|      18|     Pizza|56.59|2025-06-18 20:53:...|          1|\n",
      "|      19|     Pizza|32.64|2025-06-18 19:21:...|          2|\n",
      "|      20|   Lasanha|40.63|2025-06-19 01:15:...|          4|\n",
      "|       1|    Salada|53.23|2025-06-19 03:42:...|          1|\n",
      "|       2|   Lasanha|53.52|2025-06-19 02:25:...|          5|\n",
      "|       3|Hamburguer|50.24|2025-06-19 12:05:...|          1|\n",
      "|       4|Hamburguer|63.08|2025-06-19 14:24:...|          1|\n",
      "|       5|     Sushi|27.16|2025-06-18 23:43:...|          1|\n",
      "|       6|     Sushi|62.02|2025-06-18 23:11:...|          5|\n",
      "|       7|     Sushi| 72.7|2025-06-19 17:07:...|          3|\n",
      "|       8|    Salada|71.11|2025-06-19 12:40:...|          1|\n",
      "|       9|     Sushi|26.44|2025-06-19 15:57:...|          5|\n",
      "|      10|   Lasanha|64.45|2025-06-19 09:46:...|          4|\n",
      "+--------+----------+-----+--------------------+-----------+\n",
      "\n"
     ]
    },
    {
     "name": "stderr",
     "output_type": "stream",
     "text": [
      "                                                                                "
     ]
    }
   ],
   "source": [
    "df_vendas.show()"
   ]
  },
  {
   "cell_type": "code",
   "execution_count": 4,
   "id": "9f637391-09ff-4569-ba1d-71c672e183a4",
   "metadata": {},
   "outputs": [
    {
     "name": "stderr",
     "output_type": "stream",
     "text": [
      "[Stage 20:>                                                         (0 + 1) / 1]"
     ]
    },
    {
     "name": "stdout",
     "output_type": "stream",
     "text": [
      "+-----------+-------------+\n",
      "|id_customer|customer_name|\n",
      "+-----------+-------------+\n",
      "|          1|          Ana|\n",
      "|          2|       Carlos|\n",
      "|          3|         João|\n",
      "|          4|        Lucas|\n",
      "|          5|        Maria|\n",
      "+-----------+-------------+\n",
      "\n"
     ]
    },
    {
     "name": "stderr",
     "output_type": "stream",
     "text": [
      "                                                                                "
     ]
    }
   ],
   "source": [
    "df_pessoas.show()"
   ]
  },
  {
   "cell_type": "code",
   "execution_count": 5,
   "id": "7a340e1a-553c-468c-97bb-ab368d9b5ef9",
   "metadata": {},
   "outputs": [],
   "source": [
    "from pyspark.sql.functions import col, current_date\n",
    "\n",
    "df_joined = df_vendas.join(\n",
    "    df_pessoas,\n",
    "    on=\"id_customer\",\n",
    "    how=\"left\"\n",
    ").withColumnRenamed(\"order_id\", \"nk_order\") \\\n",
    ".withColumnRenamed(\"food_item\", \"item\") \\\n",
    ".withColumnRenamed(\"price\", \"price\") \\\n",
    ".withColumnRenamed(\"order_time\", \"order_time\") \\\n",
    ".withColumn(\"etl_date\", current_date())  # Adiciona a data do processamento"
   ]
  },
  {
   "cell_type": "code",
   "execution_count": 6,
   "id": "948a6fef-7ccb-46d4-acfe-7d8d66584c16",
   "metadata": {},
   "outputs": [
    {
     "name": "stdout",
     "output_type": "stream",
     "text": [
      "+-----------+--------+----------+-----+--------------------+-------------+----------+\n",
      "|id_customer|nk_order|      item|price|          order_time|customer_name|  etl_date|\n",
      "+-----------+--------+----------+-----+--------------------+-------------+----------+\n",
      "|          3|      11|    Salada|35.48|2025-06-19 08:24:...|         João|2025-06-19|\n",
      "|          5|      12|   Lasanha|52.04|2025-06-19 18:34:...|        Maria|2025-06-19|\n",
      "|          1|      13|     Pizza|76.65|2025-06-19 07:35:...|          Ana|2025-06-19|\n",
      "|          3|      14|     Sushi|36.17|2025-06-19 02:05:...|         João|2025-06-19|\n",
      "|          5|      15|   Lasanha| 20.8|2025-06-19 17:25:...|        Maria|2025-06-19|\n",
      "|          1|      16|Hamburguer|75.32|2025-06-19 09:45:...|          Ana|2025-06-19|\n",
      "|          3|      17|     Sushi|36.52|2025-06-19 02:16:...|         João|2025-06-19|\n",
      "|          1|      18|     Pizza|56.59|2025-06-18 20:53:...|          Ana|2025-06-19|\n",
      "|          2|      19|     Pizza|32.64|2025-06-18 19:21:...|       Carlos|2025-06-19|\n",
      "|          4|      20|   Lasanha|40.63|2025-06-19 01:15:...|        Lucas|2025-06-19|\n",
      "|          1|       1|    Salada|53.23|2025-06-19 03:42:...|          Ana|2025-06-19|\n",
      "|          5|       2|   Lasanha|53.52|2025-06-19 02:25:...|        Maria|2025-06-19|\n",
      "|          1|       3|Hamburguer|50.24|2025-06-19 12:05:...|          Ana|2025-06-19|\n",
      "|          1|       4|Hamburguer|63.08|2025-06-19 14:24:...|          Ana|2025-06-19|\n",
      "|          1|       5|     Sushi|27.16|2025-06-18 23:43:...|          Ana|2025-06-19|\n",
      "|          5|       6|     Sushi|62.02|2025-06-18 23:11:...|        Maria|2025-06-19|\n",
      "|          3|       7|     Sushi| 72.7|2025-06-19 17:07:...|         João|2025-06-19|\n",
      "|          1|       8|    Salada|71.11|2025-06-19 12:40:...|          Ana|2025-06-19|\n",
      "|          5|       9|     Sushi|26.44|2025-06-19 15:57:...|        Maria|2025-06-19|\n",
      "|          4|      10|   Lasanha|64.45|2025-06-19 09:46:...|        Lucas|2025-06-19|\n",
      "+-----------+--------+----------+-----+--------------------+-------------+----------+\n",
      "\n"
     ]
    }
   ],
   "source": [
    "df_joined.show()"
   ]
  },
  {
   "cell_type": "code",
   "execution_count": 7,
   "id": "6cf097ea-d611-4daf-b4a4-3a8766e32c23",
   "metadata": {},
   "outputs": [
    {
     "name": "stderr",
     "output_type": "stream",
     "text": [
      "25/06/19 18:45:12 ERROR ContextFactory: Query execution is null: can't emit event for executionId 16\n",
      "25/06/19 18:45:12 ERROR ContextFactory: Query execution is null: can't emit event for executionId 16\n",
      "25/06/19 18:45:12 ERROR ContextFactory: Query execution is null: can't emit event for executionId 18\n",
      "25/06/19 18:45:12 ERROR ContextFactory: Query execution is null: can't emit event for executionId 18\n",
      "25/06/19 18:45:12 ERROR ContextFactory: Query execution is null: can't emit event for executionId 19\n",
      "25/06/19 18:45:12 ERROR ContextFactory: Query execution is null: can't emit event for executionId 19\n",
      "25/06/19 18:45:12 ERROR ContextFactory: Query execution is null: can't emit event for executionId 20\n",
      "25/06/19 18:45:12 ERROR ContextFactory: Query execution is null: can't emit event for executionId 20\n",
      "25/06/19 18:45:12 ERROR ContextFactory: Query execution is null: can't emit event for executionId 21\n",
      "25/06/19 18:45:12 ERROR ContextFactory: Query execution is null: can't emit event for executionId 21\n",
      "25/06/19 18:45:12 ERROR ContextFactory: Query execution is null: can't emit event for executionId 17\n",
      "25/06/19 18:45:12 ERROR ContextFactory: Query execution is null: can't emit event for executionId 17\n",
      "25/06/19 18:45:12 ERROR ContextFactory: Query execution is null: can't emit event for executionId 17\n",
      "25/06/19 18:45:12 ERROR ContextFactory: Query execution is null: can't emit event for executionId 22\n",
      "25/06/19 18:45:12 ERROR ContextFactory: Query execution is null: can't emit event for executionId 22\n",
      "25/06/19 18:45:12 ERROR ContextFactory: Query execution is null: can't emit event for executionId 23\n",
      "25/06/19 18:45:12 ERROR ContextFactory: Query execution is null: can't emit event for executionId 23\n"
     ]
    }
   ],
   "source": [
    "# Caminho para o bucket MinIO (formato S3)\n",
    "delta_path = \"s3a://silver/fat_vendas\"\n",
    "\n",
    "# Escrever como tabela Delta\n",
    "df_joined.write.format(\"delta\").mode(\"overwrite\").save(delta_path)"
   ]
  },
  {
   "cell_type": "code",
   "execution_count": 8,
   "id": "0a312b61-45db-4cf4-b31f-81e1b2ed2dc9",
   "metadata": {},
   "outputs": [],
   "source": [
    "spark.stop()"
   ]
  }
 ],
 "metadata": {
  "kernelspec": {
   "display_name": "Python 3 (ipykernel)",
   "language": "python",
   "name": "python3"
  },
  "language_info": {
   "codemirror_mode": {
    "name": "ipython",
    "version": 3
   },
   "file_extension": ".py",
   "mimetype": "text/x-python",
   "name": "python",
   "nbconvert_exporter": "python",
   "pygments_lexer": "ipython3",
   "version": "3.12.11"
  }
 },
 "nbformat": 4,
 "nbformat_minor": 5
}
